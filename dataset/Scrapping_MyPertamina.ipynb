{
  "nbformat": 4,
  "nbformat_minor": 0,
  "metadata": {
    "colab": {
      "provenance": []
    },
    "kernelspec": {
      "name": "python3",
      "display_name": "Python 3"
    },
    "language_info": {
      "name": "python"
    }
  },
  "cells": [
    {
      "cell_type": "code",
      "execution_count": 2,
      "metadata": {
        "colab": {
          "base_uri": "https://localhost:8080/"
        },
        "id": "sf0BlmiYpNZ3",
        "outputId": "3d2653ca-da6a-4d57-eca2-ae26ecc78b80"
      },
      "outputs": [
        {
          "output_type": "stream",
          "name": "stdout",
          "text": [
            "Collecting google-play-scraper\n",
            "  Downloading google_play_scraper-1.2.7-py3-none-any.whl.metadata (50 kB)\n",
            "\u001b[?25l     \u001b[90m━━━━━━━━━━━━━━━━━━━━━━━━━━━━━━━━━━━━━━━━\u001b[0m \u001b[32m0.0/50.2 kB\u001b[0m \u001b[31m?\u001b[0m eta \u001b[36m-:--:--\u001b[0m\r\u001b[2K     \u001b[90m━━━━━━━━━━━━━━━━━━━━━━━━━━━━━━━━━━━━━━━━\u001b[0m \u001b[32m50.2/50.2 kB\u001b[0m \u001b[31m1.8 MB/s\u001b[0m eta \u001b[36m0:00:00\u001b[0m\n",
            "\u001b[?25hDownloading google_play_scraper-1.2.7-py3-none-any.whl (28 kB)\n",
            "Installing collected packages: google-play-scraper\n",
            "Successfully installed google-play-scraper-1.2.7\n",
            "Mengambil semua ulasan dari aplikasi MyPertamina...\n",
            "Selesai! Total ulasan yang disimpan: 12000\n",
            "Contoh data:\n",
            "                                             content  score\n",
            "0                                         Banyak bug      1\n",
            "1                                          bintang 5      5\n",
            "2  aplikasi berat gbsa di buka, jgn sok2 an pakai...      1\n",
            "3                           bikin banyak kerjaan....      1\n",
            "4                                                  👍      4\n"
          ]
        }
      ],
      "source": [
        "!pip install google-play-scraper\n",
        "from google_play_scraper import reviews_all, Sort\n",
        "import pandas as pd\n",
        "\n",
        "#Ambil semua ulasan (tanpa batas awal)\n",
        "print(\"Mengambil semua ulasan dari aplikasi MyPertamina...\")\n",
        "all_reviews = reviews_all(\n",
        "    'com.dafturn.mypertamina',\n",
        "    lang='id',\n",
        "    country='id',\n",
        "    sort=Sort.NEWEST\n",
        ")\n",
        "\n",
        "#Ubah ke DataFrame\n",
        "df = pd.DataFrame(all_reviews)\n",
        "\n",
        "#Batasi hanya 12000 ulasan teratas\n",
        "max_reviews = 12000\n",
        "if len(df) > max_reviews:\n",
        "    df = df.head(max_reviews)\n",
        "\n",
        "#Simpan hasil ke CSV\n",
        "df.to_csv('ulasan_mypertamina.csv', index=False, encoding='utf-8-sig')\n",
        "\n",
        "#Tampilkan ringkasan\n",
        "print(f\"Selesai! Total ulasan yang disimpan: {len(df)}\")\n",
        "print(\"Contoh data:\")\n",
        "print(df[['content', 'score']].head())\n"
      ]
    },
    {
      "cell_type": "code",
      "source": [],
      "metadata": {
        "id": "OxePUoefucaA"
      },
      "execution_count": null,
      "outputs": []
    }
  ]
}